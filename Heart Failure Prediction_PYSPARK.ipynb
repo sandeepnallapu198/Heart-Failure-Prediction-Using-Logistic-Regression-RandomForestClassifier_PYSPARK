{
 "cells": [
  {
   "cell_type": "code",
   "execution_count": 1,
   "id": "1c55a38c",
   "metadata": {},
   "outputs": [
    {
     "data": {
      "text/html": [
       "\n",
       "            <div>\n",
       "                <p><b>SparkSession - in-memory</b></p>\n",
       "                \n",
       "        <div>\n",
       "            <p><b>SparkContext</b></p>\n",
       "\n",
       "            <p><a href=\"http://DESKTOP-CLEV1R9:4040\">Spark UI</a></p>\n",
       "\n",
       "            <dl>\n",
       "              <dt>Version</dt>\n",
       "                <dd><code>v3.3.1</code></dd>\n",
       "              <dt>Master</dt>\n",
       "                <dd><code>local[*]</code></dd>\n",
       "              <dt>AppName</dt>\n",
       "                <dd><code>heart failure</code></dd>\n",
       "            </dl>\n",
       "        </div>\n",
       "        \n",
       "            </div>\n",
       "        "
      ],
      "text/plain": [
       "<pyspark.sql.session.SparkSession at 0x1a59b6fb550>"
      ]
     },
     "execution_count": 1,
     "metadata": {},
     "output_type": "execute_result"
    }
   ],
   "source": [
    "from pyspark.sql import SparkSession\n",
    "spark = SparkSession.builder.appName('heart failure').getOrCreate()\n",
    "spark"
   ]
  },
  {
   "cell_type": "code",
   "execution_count": 2,
   "id": "582c721a",
   "metadata": {},
   "outputs": [
    {
     "name": "stdout",
     "output_type": "stream",
     "text": [
      "+----+-------+------------------------+--------+-----------------+-------------------+---------+----------------+------------+---+-------+----+-----------+\n",
      "| age|anaemia|creatinine_phosphokinase|diabetes|ejection_fraction|high_blood_pressure|platelets|serum_creatinine|serum_sodium|sex|smoking|time|DEATH_EVENT|\n",
      "+----+-------+------------------------+--------+-----------------+-------------------+---------+----------------+------------+---+-------+----+-----------+\n",
      "|75.0|      0|                     582|       0|               20|                  1| 265000.0|             1.9|         130|  1|      0|   4|          1|\n",
      "|55.0|      0|                    7861|       0|               38|                  0|263358.03|             1.1|         136|  1|      0|   6|          1|\n",
      "|65.0|      0|                     146|       0|               20|                  0| 162000.0|             1.3|         129|  1|      1|   7|          1|\n",
      "|50.0|      1|                     111|       0|               20|                  0| 210000.0|             1.9|         137|  1|      0|   7|          1|\n",
      "|65.0|      1|                     160|       1|               20|                  0| 327000.0|             2.7|         116|  0|      0|   8|          1|\n",
      "|90.0|      1|                      47|       0|               40|                  1| 204000.0|             2.1|         132|  1|      1|   8|          1|\n",
      "|75.0|      1|                     246|       0|               15|                  0| 127000.0|             1.2|         137|  1|      0|  10|          1|\n",
      "|60.0|      1|                     315|       1|               60|                  0| 454000.0|             1.1|         131|  1|      1|  10|          1|\n",
      "|65.0|      0|                     157|       0|               65|                  0|263358.03|             1.5|         138|  0|      0|  10|          1|\n",
      "|80.0|      1|                     123|       0|               35|                  1| 388000.0|             9.4|         133|  1|      1|  10|          1|\n",
      "|75.0|      1|                      81|       0|               38|                  1| 368000.0|             4.0|         131|  1|      1|  10|          1|\n",
      "|62.0|      0|                     231|       0|               25|                  1| 253000.0|             0.9|         140|  1|      1|  10|          1|\n",
      "|45.0|      1|                     981|       0|               30|                  0| 136000.0|             1.1|         137|  1|      0|  11|          1|\n",
      "|50.0|      1|                     168|       0|               38|                  1| 276000.0|             1.1|         137|  1|      0|  11|          1|\n",
      "|49.0|      1|                      80|       0|               30|                  1| 427000.0|             1.0|         138|  0|      0|  12|          0|\n",
      "|82.0|      1|                     379|       0|               50|                  0|  47000.0|             1.3|         136|  1|      0|  13|          1|\n",
      "|87.0|      1|                     149|       0|               38|                  0| 262000.0|             0.9|         140|  1|      0|  14|          1|\n",
      "|45.0|      0|                     582|       0|               14|                  0| 166000.0|             0.8|         127|  1|      0|  14|          1|\n",
      "|70.0|      1|                     125|       0|               25|                  1| 237000.0|             1.0|         140|  0|      0|  15|          1|\n",
      "|48.0|      1|                     582|       1|               55|                  0|  87000.0|             1.9|         121|  0|      0|  15|          1|\n",
      "+----+-------+------------------------+--------+-----------------+-------------------+---------+----------------+------------+---+-------+----+-----------+\n",
      "only showing top 20 rows\n",
      "\n"
     ]
    }
   ],
   "source": [
    "data = spark.read.csv(\"C:\\\\Users\\\\HAI\\\\Downloads\\\\heart_failure_clinical_records_dataset.csv\",header = True,inferSchema = True)\n",
    "data.show()"
   ]
  },
  {
   "cell_type": "code",
   "execution_count": 3,
   "id": "8b0d3835",
   "metadata": {},
   "outputs": [
    {
     "name": "stdout",
     "output_type": "stream",
     "text": [
      "root\n",
      " |-- age: double (nullable = true)\n",
      " |-- anaemia: integer (nullable = true)\n",
      " |-- creatinine_phosphokinase: integer (nullable = true)\n",
      " |-- diabetes: integer (nullable = true)\n",
      " |-- ejection_fraction: integer (nullable = true)\n",
      " |-- high_blood_pressure: integer (nullable = true)\n",
      " |-- platelets: double (nullable = true)\n",
      " |-- serum_creatinine: double (nullable = true)\n",
      " |-- serum_sodium: integer (nullable = true)\n",
      " |-- sex: integer (nullable = true)\n",
      " |-- smoking: integer (nullable = true)\n",
      " |-- time: integer (nullable = true)\n",
      " |-- DEATH_EVENT: integer (nullable = true)\n",
      "\n"
     ]
    }
   ],
   "source": [
    " data.printSchema()"
   ]
  },
  {
   "cell_type": "code",
   "execution_count": 4,
   "id": "ef85ffbe",
   "metadata": {},
   "outputs": [
    {
     "name": "stdout",
     "output_type": "stream",
     "text": [
      "+---+-------+------------------------+--------+-----------------+-------------------+---------+----------------+------------+---+-------+----+-----------+\n",
      "|age|anaemia|creatinine_phosphokinase|diabetes|ejection_fraction|high_blood_pressure|platelets|serum_creatinine|serum_sodium|sex|smoking|time|DEATH_EVENT|\n",
      "+---+-------+------------------------+--------+-----------------+-------------------+---------+----------------+------------+---+-------+----+-----------+\n",
      "|  0|      0|                       0|       0|                0|                  0|        0|               0|           0|  0|      0|   0|          0|\n",
      "+---+-------+------------------------+--------+-----------------+-------------------+---------+----------------+------------+---+-------+----+-----------+\n",
      "\n"
     ]
    }
   ],
   "source": [
    "from pyspark.sql.functions import count,col,when,isnan\n",
    "data.select([count(when(col(c).isNull(),c)).alias(c) for c in data.columns]).show()"
   ]
  },
  {
   "cell_type": "code",
   "execution_count": 5,
   "id": "f0506ed8",
   "metadata": {},
   "outputs": [
    {
     "name": "stdout",
     "output_type": "stream",
     "text": [
      "+----+-------+------------------------+--------+-----------------+-------------------+---------+----------------+------------+---+-------+----+-----------+---------------+---------------+\n",
      "| age|anaemia|creatinine_phosphokinase|diabetes|ejection_fraction|high_blood_pressure|platelets|serum_creatinine|serum_sodium|sex|smoking|time|DEATH_EVENT|anaemia_imputed|smoking_imputed|\n",
      "+----+-------+------------------------+--------+-----------------+-------------------+---------+----------------+------------+---+-------+----+-----------+---------------+---------------+\n",
      "|75.0|      0|                     582|       0|               20|                  1| 265000.0|             1.9|         130|  1|      0|   4|          1|              0|              0|\n",
      "|55.0|      0|                    7861|       0|               38|                  0|263358.03|             1.1|         136|  1|      0|   6|          1|              0|              0|\n",
      "|65.0|      0|                     146|       0|               20|                  0| 162000.0|             1.3|         129|  1|      1|   7|          1|              0|              1|\n",
      "|50.0|      1|                     111|       0|               20|                  0| 210000.0|             1.9|         137|  1|      0|   7|          1|              1|              0|\n",
      "|65.0|      1|                     160|       1|               20|                  0| 327000.0|             2.7|         116|  0|      0|   8|          1|              1|              0|\n",
      "+----+-------+------------------------+--------+-----------------+-------------------+---------+----------------+------------+---+-------+----+-----------+---------------+---------------+\n",
      "only showing top 5 rows\n",
      "\n"
     ]
    }
   ],
   "source": [
    "#example \n",
    "#Imputer - remove null values\n",
    "from pyspark.ml.feature import Imputer\n",
    "imputer = Imputer(inputCols = ['anaemia','smoking'],\n",
    "                 outputCols = ['{}_imputed'.format(c) for c in ['anaemia','smoking'] ]).setStrategy('mean')\n",
    "data = imputer.fit(data).transform(data)\n",
    "data.show(5)"
   ]
  },
  {
   "cell_type": "code",
   "execution_count": 6,
   "id": "4e56bbc1",
   "metadata": {},
   "outputs": [
    {
     "data": {
      "text/html": [
       "<div>\n",
       "<style scoped>\n",
       "    .dataframe tbody tr th:only-of-type {\n",
       "        vertical-align: middle;\n",
       "    }\n",
       "\n",
       "    .dataframe tbody tr th {\n",
       "        vertical-align: top;\n",
       "    }\n",
       "\n",
       "    .dataframe thead th {\n",
       "        text-align: right;\n",
       "    }\n",
       "</style>\n",
       "<table border=\"1\" class=\"dataframe\">\n",
       "  <thead>\n",
       "    <tr style=\"text-align: right;\">\n",
       "      <th></th>\n",
       "      <th>age</th>\n",
       "      <th>anaemia</th>\n",
       "      <th>creatinine_phosphokinase</th>\n",
       "      <th>diabetes</th>\n",
       "      <th>ejection_fraction</th>\n",
       "      <th>high_blood_pressure</th>\n",
       "      <th>platelets</th>\n",
       "      <th>serum_creatinine</th>\n",
       "      <th>serum_sodium</th>\n",
       "      <th>sex</th>\n",
       "      <th>smoking</th>\n",
       "      <th>time</th>\n",
       "      <th>DEATH_EVENT</th>\n",
       "      <th>anaemia_imputed</th>\n",
       "      <th>smoking_imputed</th>\n",
       "    </tr>\n",
       "  </thead>\n",
       "  <tbody>\n",
       "    <tr>\n",
       "      <th>age</th>\n",
       "      <td>1.000000</td>\n",
       "      <td>0.088006</td>\n",
       "      <td>-0.081584</td>\n",
       "      <td>-0.101012</td>\n",
       "      <td>0.060098</td>\n",
       "      <td>0.093289</td>\n",
       "      <td>-0.052354</td>\n",
       "      <td>0.159187</td>\n",
       "      <td>-0.045966</td>\n",
       "      <td>0.065430</td>\n",
       "      <td>0.018668</td>\n",
       "      <td>-0.224068</td>\n",
       "      <td>0.253729</td>\n",
       "      <td>0.088006</td>\n",
       "      <td>0.018668</td>\n",
       "    </tr>\n",
       "    <tr>\n",
       "      <th>anaemia</th>\n",
       "      <td>0.088006</td>\n",
       "      <td>1.000000</td>\n",
       "      <td>-0.190741</td>\n",
       "      <td>-0.012729</td>\n",
       "      <td>0.031557</td>\n",
       "      <td>0.038182</td>\n",
       "      <td>-0.043786</td>\n",
       "      <td>0.052174</td>\n",
       "      <td>0.041882</td>\n",
       "      <td>-0.094769</td>\n",
       "      <td>-0.107290</td>\n",
       "      <td>-0.141414</td>\n",
       "      <td>0.066270</td>\n",
       "      <td>1.000000</td>\n",
       "      <td>-0.107290</td>\n",
       "    </tr>\n",
       "    <tr>\n",
       "      <th>creatinine_phosphokinase</th>\n",
       "      <td>-0.081584</td>\n",
       "      <td>-0.190741</td>\n",
       "      <td>1.000000</td>\n",
       "      <td>-0.009639</td>\n",
       "      <td>-0.044080</td>\n",
       "      <td>-0.070590</td>\n",
       "      <td>0.024463</td>\n",
       "      <td>-0.016408</td>\n",
       "      <td>0.059550</td>\n",
       "      <td>0.079791</td>\n",
       "      <td>0.002421</td>\n",
       "      <td>-0.009346</td>\n",
       "      <td>0.062728</td>\n",
       "      <td>-0.190741</td>\n",
       "      <td>0.002421</td>\n",
       "    </tr>\n",
       "    <tr>\n",
       "      <th>diabetes</th>\n",
       "      <td>-0.101012</td>\n",
       "      <td>-0.012729</td>\n",
       "      <td>-0.009639</td>\n",
       "      <td>1.000000</td>\n",
       "      <td>-0.004850</td>\n",
       "      <td>-0.012732</td>\n",
       "      <td>0.092193</td>\n",
       "      <td>-0.046975</td>\n",
       "      <td>-0.089551</td>\n",
       "      <td>-0.157730</td>\n",
       "      <td>-0.147173</td>\n",
       "      <td>0.033726</td>\n",
       "      <td>-0.001943</td>\n",
       "      <td>-0.012729</td>\n",
       "      <td>-0.147173</td>\n",
       "    </tr>\n",
       "    <tr>\n",
       "      <th>ejection_fraction</th>\n",
       "      <td>0.060098</td>\n",
       "      <td>0.031557</td>\n",
       "      <td>-0.044080</td>\n",
       "      <td>-0.004850</td>\n",
       "      <td>1.000000</td>\n",
       "      <td>0.024445</td>\n",
       "      <td>0.072177</td>\n",
       "      <td>-0.011302</td>\n",
       "      <td>0.175902</td>\n",
       "      <td>-0.148386</td>\n",
       "      <td>-0.067315</td>\n",
       "      <td>0.041729</td>\n",
       "      <td>-0.268603</td>\n",
       "      <td>0.031557</td>\n",
       "      <td>-0.067315</td>\n",
       "    </tr>\n",
       "    <tr>\n",
       "      <th>high_blood_pressure</th>\n",
       "      <td>0.093289</td>\n",
       "      <td>0.038182</td>\n",
       "      <td>-0.070590</td>\n",
       "      <td>-0.012732</td>\n",
       "      <td>0.024445</td>\n",
       "      <td>1.000000</td>\n",
       "      <td>0.049963</td>\n",
       "      <td>-0.004935</td>\n",
       "      <td>0.037109</td>\n",
       "      <td>-0.104615</td>\n",
       "      <td>-0.055711</td>\n",
       "      <td>-0.196439</td>\n",
       "      <td>0.079351</td>\n",
       "      <td>0.038182</td>\n",
       "      <td>-0.055711</td>\n",
       "    </tr>\n",
       "    <tr>\n",
       "      <th>platelets</th>\n",
       "      <td>-0.052354</td>\n",
       "      <td>-0.043786</td>\n",
       "      <td>0.024463</td>\n",
       "      <td>0.092193</td>\n",
       "      <td>0.072177</td>\n",
       "      <td>0.049963</td>\n",
       "      <td>1.000000</td>\n",
       "      <td>-0.041198</td>\n",
       "      <td>0.062125</td>\n",
       "      <td>-0.125120</td>\n",
       "      <td>0.028234</td>\n",
       "      <td>0.010514</td>\n",
       "      <td>-0.049139</td>\n",
       "      <td>-0.043786</td>\n",
       "      <td>0.028234</td>\n",
       "    </tr>\n",
       "    <tr>\n",
       "      <th>serum_creatinine</th>\n",
       "      <td>0.159187</td>\n",
       "      <td>0.052174</td>\n",
       "      <td>-0.016408</td>\n",
       "      <td>-0.046975</td>\n",
       "      <td>-0.011302</td>\n",
       "      <td>-0.004935</td>\n",
       "      <td>-0.041198</td>\n",
       "      <td>1.000000</td>\n",
       "      <td>-0.189095</td>\n",
       "      <td>0.006970</td>\n",
       "      <td>-0.027414</td>\n",
       "      <td>-0.149315</td>\n",
       "      <td>0.294278</td>\n",
       "      <td>0.052174</td>\n",
       "      <td>-0.027414</td>\n",
       "    </tr>\n",
       "    <tr>\n",
       "      <th>serum_sodium</th>\n",
       "      <td>-0.045966</td>\n",
       "      <td>0.041882</td>\n",
       "      <td>0.059550</td>\n",
       "      <td>-0.089551</td>\n",
       "      <td>0.175902</td>\n",
       "      <td>0.037109</td>\n",
       "      <td>0.062125</td>\n",
       "      <td>-0.189095</td>\n",
       "      <td>1.000000</td>\n",
       "      <td>-0.027566</td>\n",
       "      <td>0.004813</td>\n",
       "      <td>0.087640</td>\n",
       "      <td>-0.195204</td>\n",
       "      <td>0.041882</td>\n",
       "      <td>0.004813</td>\n",
       "    </tr>\n",
       "    <tr>\n",
       "      <th>sex</th>\n",
       "      <td>0.065430</td>\n",
       "      <td>-0.094769</td>\n",
       "      <td>0.079791</td>\n",
       "      <td>-0.157730</td>\n",
       "      <td>-0.148386</td>\n",
       "      <td>-0.104615</td>\n",
       "      <td>-0.125120</td>\n",
       "      <td>0.006970</td>\n",
       "      <td>-0.027566</td>\n",
       "      <td>1.000000</td>\n",
       "      <td>0.445892</td>\n",
       "      <td>-0.015608</td>\n",
       "      <td>-0.004316</td>\n",
       "      <td>-0.094769</td>\n",
       "      <td>0.445892</td>\n",
       "    </tr>\n",
       "    <tr>\n",
       "      <th>smoking</th>\n",
       "      <td>0.018668</td>\n",
       "      <td>-0.107290</td>\n",
       "      <td>0.002421</td>\n",
       "      <td>-0.147173</td>\n",
       "      <td>-0.067315</td>\n",
       "      <td>-0.055711</td>\n",
       "      <td>0.028234</td>\n",
       "      <td>-0.027414</td>\n",
       "      <td>0.004813</td>\n",
       "      <td>0.445892</td>\n",
       "      <td>1.000000</td>\n",
       "      <td>-0.022839</td>\n",
       "      <td>-0.012623</td>\n",
       "      <td>-0.107290</td>\n",
       "      <td>1.000000</td>\n",
       "    </tr>\n",
       "    <tr>\n",
       "      <th>time</th>\n",
       "      <td>-0.224068</td>\n",
       "      <td>-0.141414</td>\n",
       "      <td>-0.009346</td>\n",
       "      <td>0.033726</td>\n",
       "      <td>0.041729</td>\n",
       "      <td>-0.196439</td>\n",
       "      <td>0.010514</td>\n",
       "      <td>-0.149315</td>\n",
       "      <td>0.087640</td>\n",
       "      <td>-0.015608</td>\n",
       "      <td>-0.022839</td>\n",
       "      <td>1.000000</td>\n",
       "      <td>-0.526964</td>\n",
       "      <td>-0.141414</td>\n",
       "      <td>-0.022839</td>\n",
       "    </tr>\n",
       "    <tr>\n",
       "      <th>DEATH_EVENT</th>\n",
       "      <td>0.253729</td>\n",
       "      <td>0.066270</td>\n",
       "      <td>0.062728</td>\n",
       "      <td>-0.001943</td>\n",
       "      <td>-0.268603</td>\n",
       "      <td>0.079351</td>\n",
       "      <td>-0.049139</td>\n",
       "      <td>0.294278</td>\n",
       "      <td>-0.195204</td>\n",
       "      <td>-0.004316</td>\n",
       "      <td>-0.012623</td>\n",
       "      <td>-0.526964</td>\n",
       "      <td>1.000000</td>\n",
       "      <td>0.066270</td>\n",
       "      <td>-0.012623</td>\n",
       "    </tr>\n",
       "    <tr>\n",
       "      <th>anaemia_imputed</th>\n",
       "      <td>0.088006</td>\n",
       "      <td>1.000000</td>\n",
       "      <td>-0.190741</td>\n",
       "      <td>-0.012729</td>\n",
       "      <td>0.031557</td>\n",
       "      <td>0.038182</td>\n",
       "      <td>-0.043786</td>\n",
       "      <td>0.052174</td>\n",
       "      <td>0.041882</td>\n",
       "      <td>-0.094769</td>\n",
       "      <td>-0.107290</td>\n",
       "      <td>-0.141414</td>\n",
       "      <td>0.066270</td>\n",
       "      <td>1.000000</td>\n",
       "      <td>-0.107290</td>\n",
       "    </tr>\n",
       "    <tr>\n",
       "      <th>smoking_imputed</th>\n",
       "      <td>0.018668</td>\n",
       "      <td>-0.107290</td>\n",
       "      <td>0.002421</td>\n",
       "      <td>-0.147173</td>\n",
       "      <td>-0.067315</td>\n",
       "      <td>-0.055711</td>\n",
       "      <td>0.028234</td>\n",
       "      <td>-0.027414</td>\n",
       "      <td>0.004813</td>\n",
       "      <td>0.445892</td>\n",
       "      <td>1.000000</td>\n",
       "      <td>-0.022839</td>\n",
       "      <td>-0.012623</td>\n",
       "      <td>-0.107290</td>\n",
       "      <td>1.000000</td>\n",
       "    </tr>\n",
       "  </tbody>\n",
       "</table>\n",
       "</div>"
      ],
      "text/plain": [
       "                               age   anaemia  creatinine_phosphokinase  \\\n",
       "age                       1.000000  0.088006                 -0.081584   \n",
       "anaemia                   0.088006  1.000000                 -0.190741   \n",
       "creatinine_phosphokinase -0.081584 -0.190741                  1.000000   \n",
       "diabetes                 -0.101012 -0.012729                 -0.009639   \n",
       "ejection_fraction         0.060098  0.031557                 -0.044080   \n",
       "high_blood_pressure       0.093289  0.038182                 -0.070590   \n",
       "platelets                -0.052354 -0.043786                  0.024463   \n",
       "serum_creatinine          0.159187  0.052174                 -0.016408   \n",
       "serum_sodium             -0.045966  0.041882                  0.059550   \n",
       "sex                       0.065430 -0.094769                  0.079791   \n",
       "smoking                   0.018668 -0.107290                  0.002421   \n",
       "time                     -0.224068 -0.141414                 -0.009346   \n",
       "DEATH_EVENT               0.253729  0.066270                  0.062728   \n",
       "anaemia_imputed           0.088006  1.000000                 -0.190741   \n",
       "smoking_imputed           0.018668 -0.107290                  0.002421   \n",
       "\n",
       "                          diabetes  ejection_fraction  high_blood_pressure  \\\n",
       "age                      -0.101012           0.060098             0.093289   \n",
       "anaemia                  -0.012729           0.031557             0.038182   \n",
       "creatinine_phosphokinase -0.009639          -0.044080            -0.070590   \n",
       "diabetes                  1.000000          -0.004850            -0.012732   \n",
       "ejection_fraction        -0.004850           1.000000             0.024445   \n",
       "high_blood_pressure      -0.012732           0.024445             1.000000   \n",
       "platelets                 0.092193           0.072177             0.049963   \n",
       "serum_creatinine         -0.046975          -0.011302            -0.004935   \n",
       "serum_sodium             -0.089551           0.175902             0.037109   \n",
       "sex                      -0.157730          -0.148386            -0.104615   \n",
       "smoking                  -0.147173          -0.067315            -0.055711   \n",
       "time                      0.033726           0.041729            -0.196439   \n",
       "DEATH_EVENT              -0.001943          -0.268603             0.079351   \n",
       "anaemia_imputed          -0.012729           0.031557             0.038182   \n",
       "smoking_imputed          -0.147173          -0.067315            -0.055711   \n",
       "\n",
       "                          platelets  serum_creatinine  serum_sodium       sex  \\\n",
       "age                       -0.052354          0.159187     -0.045966  0.065430   \n",
       "anaemia                   -0.043786          0.052174      0.041882 -0.094769   \n",
       "creatinine_phosphokinase   0.024463         -0.016408      0.059550  0.079791   \n",
       "diabetes                   0.092193         -0.046975     -0.089551 -0.157730   \n",
       "ejection_fraction          0.072177         -0.011302      0.175902 -0.148386   \n",
       "high_blood_pressure        0.049963         -0.004935      0.037109 -0.104615   \n",
       "platelets                  1.000000         -0.041198      0.062125 -0.125120   \n",
       "serum_creatinine          -0.041198          1.000000     -0.189095  0.006970   \n",
       "serum_sodium               0.062125         -0.189095      1.000000 -0.027566   \n",
       "sex                       -0.125120          0.006970     -0.027566  1.000000   \n",
       "smoking                    0.028234         -0.027414      0.004813  0.445892   \n",
       "time                       0.010514         -0.149315      0.087640 -0.015608   \n",
       "DEATH_EVENT               -0.049139          0.294278     -0.195204 -0.004316   \n",
       "anaemia_imputed           -0.043786          0.052174      0.041882 -0.094769   \n",
       "smoking_imputed            0.028234         -0.027414      0.004813  0.445892   \n",
       "\n",
       "                           smoking      time  DEATH_EVENT  anaemia_imputed  \\\n",
       "age                       0.018668 -0.224068     0.253729         0.088006   \n",
       "anaemia                  -0.107290 -0.141414     0.066270         1.000000   \n",
       "creatinine_phosphokinase  0.002421 -0.009346     0.062728        -0.190741   \n",
       "diabetes                 -0.147173  0.033726    -0.001943        -0.012729   \n",
       "ejection_fraction        -0.067315  0.041729    -0.268603         0.031557   \n",
       "high_blood_pressure      -0.055711 -0.196439     0.079351         0.038182   \n",
       "platelets                 0.028234  0.010514    -0.049139        -0.043786   \n",
       "serum_creatinine         -0.027414 -0.149315     0.294278         0.052174   \n",
       "serum_sodium              0.004813  0.087640    -0.195204         0.041882   \n",
       "sex                       0.445892 -0.015608    -0.004316        -0.094769   \n",
       "smoking                   1.000000 -0.022839    -0.012623        -0.107290   \n",
       "time                     -0.022839  1.000000    -0.526964        -0.141414   \n",
       "DEATH_EVENT              -0.012623 -0.526964     1.000000         0.066270   \n",
       "anaemia_imputed          -0.107290 -0.141414     0.066270         1.000000   \n",
       "smoking_imputed           1.000000 -0.022839    -0.012623        -0.107290   \n",
       "\n",
       "                          smoking_imputed  \n",
       "age                              0.018668  \n",
       "anaemia                         -0.107290  \n",
       "creatinine_phosphokinase         0.002421  \n",
       "diabetes                        -0.147173  \n",
       "ejection_fraction               -0.067315  \n",
       "high_blood_pressure             -0.055711  \n",
       "platelets                        0.028234  \n",
       "serum_creatinine                -0.027414  \n",
       "serum_sodium                     0.004813  \n",
       "sex                              0.445892  \n",
       "smoking                          1.000000  \n",
       "time                            -0.022839  \n",
       "DEATH_EVENT                     -0.012623  \n",
       "anaemia_imputed                 -0.107290  \n",
       "smoking_imputed                  1.000000  "
      ]
     },
     "execution_count": 6,
     "metadata": {},
     "output_type": "execute_result"
    }
   ],
   "source": [
    "#check the correltaion\n",
    "data.toPandas().corr()"
   ]
  },
  {
   "cell_type": "code",
   "execution_count": 7,
   "id": "a1398902",
   "metadata": {},
   "outputs": [
    {
     "name": "stdout",
     "output_type": "stream",
     "text": [
      "+-----------+-----+\n",
      "|DEATH_EVENT|count|\n",
      "+-----------+-----+\n",
      "|          1|   96|\n",
      "|          0|  203|\n",
      "+-----------+-----+\n",
      "\n"
     ]
    }
   ],
   "source": [
    "data.groupBy('DEATH_EVENT').count().show()"
   ]
  },
  {
   "cell_type": "code",
   "execution_count": 8,
   "id": "c066bdc8",
   "metadata": {},
   "outputs": [
    {
     "data": {
      "text/html": [
       "<div>\n",
       "<style scoped>\n",
       "    .dataframe tbody tr th:only-of-type {\n",
       "        vertical-align: middle;\n",
       "    }\n",
       "\n",
       "    .dataframe tbody tr th {\n",
       "        vertical-align: top;\n",
       "    }\n",
       "\n",
       "    .dataframe thead th {\n",
       "        text-align: right;\n",
       "    }\n",
       "</style>\n",
       "<table border=\"1\" class=\"dataframe\">\n",
       "  <thead>\n",
       "    <tr style=\"text-align: right;\">\n",
       "      <th></th>\n",
       "      <th>age</th>\n",
       "      <th>anaemia</th>\n",
       "      <th>creatinine_phosphokinase</th>\n",
       "      <th>diabetes</th>\n",
       "      <th>ejection_fraction</th>\n",
       "      <th>high_blood_pressure</th>\n",
       "      <th>platelets</th>\n",
       "      <th>serum_creatinine</th>\n",
       "      <th>serum_sodium</th>\n",
       "      <th>sex</th>\n",
       "      <th>smoking</th>\n",
       "      <th>time</th>\n",
       "      <th>anaemia_imputed</th>\n",
       "      <th>smoking_imputed</th>\n",
       "    </tr>\n",
       "  </thead>\n",
       "  <tbody>\n",
       "    <tr>\n",
       "      <th>0</th>\n",
       "      <td>75.0</td>\n",
       "      <td>0</td>\n",
       "      <td>582</td>\n",
       "      <td>0</td>\n",
       "      <td>20</td>\n",
       "      <td>1</td>\n",
       "      <td>265000.00</td>\n",
       "      <td>1.9</td>\n",
       "      <td>130</td>\n",
       "      <td>1</td>\n",
       "      <td>0</td>\n",
       "      <td>4</td>\n",
       "      <td>0</td>\n",
       "      <td>0</td>\n",
       "    </tr>\n",
       "    <tr>\n",
       "      <th>1</th>\n",
       "      <td>55.0</td>\n",
       "      <td>0</td>\n",
       "      <td>7861</td>\n",
       "      <td>0</td>\n",
       "      <td>38</td>\n",
       "      <td>0</td>\n",
       "      <td>263358.03</td>\n",
       "      <td>1.1</td>\n",
       "      <td>136</td>\n",
       "      <td>1</td>\n",
       "      <td>0</td>\n",
       "      <td>6</td>\n",
       "      <td>0</td>\n",
       "      <td>0</td>\n",
       "    </tr>\n",
       "    <tr>\n",
       "      <th>2</th>\n",
       "      <td>65.0</td>\n",
       "      <td>0</td>\n",
       "      <td>146</td>\n",
       "      <td>0</td>\n",
       "      <td>20</td>\n",
       "      <td>0</td>\n",
       "      <td>162000.00</td>\n",
       "      <td>1.3</td>\n",
       "      <td>129</td>\n",
       "      <td>1</td>\n",
       "      <td>1</td>\n",
       "      <td>7</td>\n",
       "      <td>0</td>\n",
       "      <td>1</td>\n",
       "    </tr>\n",
       "    <tr>\n",
       "      <th>3</th>\n",
       "      <td>50.0</td>\n",
       "      <td>1</td>\n",
       "      <td>111</td>\n",
       "      <td>0</td>\n",
       "      <td>20</td>\n",
       "      <td>0</td>\n",
       "      <td>210000.00</td>\n",
       "      <td>1.9</td>\n",
       "      <td>137</td>\n",
       "      <td>1</td>\n",
       "      <td>0</td>\n",
       "      <td>7</td>\n",
       "      <td>1</td>\n",
       "      <td>0</td>\n",
       "    </tr>\n",
       "    <tr>\n",
       "      <th>4</th>\n",
       "      <td>65.0</td>\n",
       "      <td>1</td>\n",
       "      <td>160</td>\n",
       "      <td>1</td>\n",
       "      <td>20</td>\n",
       "      <td>0</td>\n",
       "      <td>327000.00</td>\n",
       "      <td>2.7</td>\n",
       "      <td>116</td>\n",
       "      <td>0</td>\n",
       "      <td>0</td>\n",
       "      <td>8</td>\n",
       "      <td>1</td>\n",
       "      <td>0</td>\n",
       "    </tr>\n",
       "    <tr>\n",
       "      <th>...</th>\n",
       "      <td>...</td>\n",
       "      <td>...</td>\n",
       "      <td>...</td>\n",
       "      <td>...</td>\n",
       "      <td>...</td>\n",
       "      <td>...</td>\n",
       "      <td>...</td>\n",
       "      <td>...</td>\n",
       "      <td>...</td>\n",
       "      <td>...</td>\n",
       "      <td>...</td>\n",
       "      <td>...</td>\n",
       "      <td>...</td>\n",
       "      <td>...</td>\n",
       "    </tr>\n",
       "    <tr>\n",
       "      <th>294</th>\n",
       "      <td>62.0</td>\n",
       "      <td>0</td>\n",
       "      <td>61</td>\n",
       "      <td>1</td>\n",
       "      <td>38</td>\n",
       "      <td>1</td>\n",
       "      <td>155000.00</td>\n",
       "      <td>1.1</td>\n",
       "      <td>143</td>\n",
       "      <td>1</td>\n",
       "      <td>1</td>\n",
       "      <td>270</td>\n",
       "      <td>0</td>\n",
       "      <td>1</td>\n",
       "    </tr>\n",
       "    <tr>\n",
       "      <th>295</th>\n",
       "      <td>55.0</td>\n",
       "      <td>0</td>\n",
       "      <td>1820</td>\n",
       "      <td>0</td>\n",
       "      <td>38</td>\n",
       "      <td>0</td>\n",
       "      <td>270000.00</td>\n",
       "      <td>1.2</td>\n",
       "      <td>139</td>\n",
       "      <td>0</td>\n",
       "      <td>0</td>\n",
       "      <td>271</td>\n",
       "      <td>0</td>\n",
       "      <td>0</td>\n",
       "    </tr>\n",
       "    <tr>\n",
       "      <th>296</th>\n",
       "      <td>45.0</td>\n",
       "      <td>0</td>\n",
       "      <td>2060</td>\n",
       "      <td>1</td>\n",
       "      <td>60</td>\n",
       "      <td>0</td>\n",
       "      <td>742000.00</td>\n",
       "      <td>0.8</td>\n",
       "      <td>138</td>\n",
       "      <td>0</td>\n",
       "      <td>0</td>\n",
       "      <td>278</td>\n",
       "      <td>0</td>\n",
       "      <td>0</td>\n",
       "    </tr>\n",
       "    <tr>\n",
       "      <th>297</th>\n",
       "      <td>45.0</td>\n",
       "      <td>0</td>\n",
       "      <td>2413</td>\n",
       "      <td>0</td>\n",
       "      <td>38</td>\n",
       "      <td>0</td>\n",
       "      <td>140000.00</td>\n",
       "      <td>1.4</td>\n",
       "      <td>140</td>\n",
       "      <td>1</td>\n",
       "      <td>1</td>\n",
       "      <td>280</td>\n",
       "      <td>0</td>\n",
       "      <td>1</td>\n",
       "    </tr>\n",
       "    <tr>\n",
       "      <th>298</th>\n",
       "      <td>50.0</td>\n",
       "      <td>0</td>\n",
       "      <td>196</td>\n",
       "      <td>0</td>\n",
       "      <td>45</td>\n",
       "      <td>0</td>\n",
       "      <td>395000.00</td>\n",
       "      <td>1.6</td>\n",
       "      <td>136</td>\n",
       "      <td>1</td>\n",
       "      <td>1</td>\n",
       "      <td>285</td>\n",
       "      <td>0</td>\n",
       "      <td>1</td>\n",
       "    </tr>\n",
       "  </tbody>\n",
       "</table>\n",
       "<p>299 rows × 14 columns</p>\n",
       "</div>"
      ],
      "text/plain": [
       "      age  anaemia  creatinine_phosphokinase  diabetes  ejection_fraction  \\\n",
       "0    75.0        0                       582         0                 20   \n",
       "1    55.0        0                      7861         0                 38   \n",
       "2    65.0        0                       146         0                 20   \n",
       "3    50.0        1                       111         0                 20   \n",
       "4    65.0        1                       160         1                 20   \n",
       "..    ...      ...                       ...       ...                ...   \n",
       "294  62.0        0                        61         1                 38   \n",
       "295  55.0        0                      1820         0                 38   \n",
       "296  45.0        0                      2060         1                 60   \n",
       "297  45.0        0                      2413         0                 38   \n",
       "298  50.0        0                       196         0                 45   \n",
       "\n",
       "     high_blood_pressure  platelets  serum_creatinine  serum_sodium  sex  \\\n",
       "0                      1  265000.00               1.9           130    1   \n",
       "1                      0  263358.03               1.1           136    1   \n",
       "2                      0  162000.00               1.3           129    1   \n",
       "3                      0  210000.00               1.9           137    1   \n",
       "4                      0  327000.00               2.7           116    0   \n",
       "..                   ...        ...               ...           ...  ...   \n",
       "294                    1  155000.00               1.1           143    1   \n",
       "295                    0  270000.00               1.2           139    0   \n",
       "296                    0  742000.00               0.8           138    0   \n",
       "297                    0  140000.00               1.4           140    1   \n",
       "298                    0  395000.00               1.6           136    1   \n",
       "\n",
       "     smoking  time  anaemia_imputed  smoking_imputed  \n",
       "0          0     4                0                0  \n",
       "1          0     6                0                0  \n",
       "2          1     7                0                1  \n",
       "3          0     7                1                0  \n",
       "4          0     8                1                0  \n",
       "..       ...   ...              ...              ...  \n",
       "294        1   270                0                1  \n",
       "295        0   271                0                0  \n",
       "296        0   278                0                0  \n",
       "297        1   280                0                1  \n",
       "298        1   285                0                1  \n",
       "\n",
       "[299 rows x 14 columns]"
      ]
     },
     "execution_count": 8,
     "metadata": {},
     "output_type": "execute_result"
    }
   ],
   "source": [
    "new_data = data.drop('DEATH_EVENT')\n",
    "new_data.toPandas()"
   ]
  },
  {
   "cell_type": "code",
   "execution_count": 9,
   "id": "0be15e04",
   "metadata": {},
   "outputs": [
    {
     "data": {
      "text/plain": [
       "['age',\n",
       " 'anaemia',\n",
       " 'creatinine_phosphokinase',\n",
       " 'diabetes',\n",
       " 'ejection_fraction',\n",
       " 'high_blood_pressure',\n",
       " 'platelets',\n",
       " 'serum_creatinine',\n",
       " 'serum_sodium',\n",
       " 'sex',\n",
       " 'smoking',\n",
       " 'time',\n",
       " 'anaemia_imputed',\n",
       " 'smoking_imputed']"
      ]
     },
     "execution_count": 9,
     "metadata": {},
     "output_type": "execute_result"
    }
   ],
   "source": [
    "cols = new_data.columns\n",
    "cols"
   ]
  },
  {
   "cell_type": "code",
   "execution_count": 10,
   "id": "47b19487",
   "metadata": {},
   "outputs": [
    {
     "name": "stdout",
     "output_type": "stream",
     "text": [
      "+----+-------+------------------------+--------+-----------------+-------------------+---------+----------------+------------+---+-------+----+-----------+---------------+---------------+--------------------+\n",
      "| age|anaemia|creatinine_phosphokinase|diabetes|ejection_fraction|high_blood_pressure|platelets|serum_creatinine|serum_sodium|sex|smoking|time|DEATH_EVENT|anaemia_imputed|smoking_imputed|Independent Features|\n",
      "+----+-------+------------------------+--------+-----------------+-------------------+---------+----------------+------------+---+-------+----+-----------+---------------+---------------+--------------------+\n",
      "|75.0|      0|                     582|       0|               20|                  1| 265000.0|             1.9|         130|  1|      0|   4|          1|              0|              0|[75.0,0.0,582.0,0...|\n",
      "|55.0|      0|                    7861|       0|               38|                  0|263358.03|             1.1|         136|  1|      0|   6|          1|              0|              0|(14,[0,2,4,6,7,8,...|\n",
      "|65.0|      0|                     146|       0|               20|                  0| 162000.0|             1.3|         129|  1|      1|   7|          1|              0|              1|[65.0,0.0,146.0,0...|\n",
      "|50.0|      1|                     111|       0|               20|                  0| 210000.0|             1.9|         137|  1|      0|   7|          1|              1|              0|[50.0,1.0,111.0,0...|\n",
      "|65.0|      1|                     160|       1|               20|                  0| 327000.0|             2.7|         116|  0|      0|   8|          1|              1|              0|[65.0,1.0,160.0,1...|\n",
      "|90.0|      1|                      47|       0|               40|                  1| 204000.0|             2.1|         132|  1|      1|   8|          1|              1|              1|[90.0,1.0,47.0,0....|\n",
      "|75.0|      1|                     246|       0|               15|                  0| 127000.0|             1.2|         137|  1|      0|  10|          1|              1|              0|[75.0,1.0,246.0,0...|\n",
      "|60.0|      1|                     315|       1|               60|                  0| 454000.0|             1.1|         131|  1|      1|  10|          1|              1|              1|[60.0,1.0,315.0,1...|\n",
      "|65.0|      0|                     157|       0|               65|                  0|263358.03|             1.5|         138|  0|      0|  10|          1|              0|              0|(14,[0,2,4,6,7,8,...|\n",
      "|80.0|      1|                     123|       0|               35|                  1| 388000.0|             9.4|         133|  1|      1|  10|          1|              1|              1|[80.0,1.0,123.0,0...|\n",
      "+----+-------+------------------------+--------+-----------------+-------------------+---------+----------------+------------+---+-------+----+-----------+---------------+---------------+--------------------+\n",
      "only showing top 10 rows\n",
      "\n"
     ]
    }
   ],
   "source": [
    "from pyspark.ml.feature import VectorAssembler\n",
    "assembler = VectorAssembler(inputCols = cols,outputCol = 'Independent Features')\n",
    "data = assembler.transform(data)\n",
    "data.show(10)"
   ]
  },
  {
   "cell_type": "code",
   "execution_count": 11,
   "id": "74ddb239",
   "metadata": {},
   "outputs": [
    {
     "name": "stdout",
     "output_type": "stream",
     "text": [
      "+--------------------+-----------+\n",
      "|Independent Features|DEATH_EVENT|\n",
      "+--------------------+-----------+\n",
      "|[75.0,0.0,582.0,0...|          1|\n",
      "|(14,[0,2,4,6,7,8,...|          1|\n",
      "|[65.0,0.0,146.0,0...|          1|\n",
      "|[50.0,1.0,111.0,0...|          1|\n",
      "|[65.0,1.0,160.0,1...|          1|\n",
      "|[90.0,1.0,47.0,0....|          1|\n",
      "|[75.0,1.0,246.0,0...|          1|\n",
      "|[60.0,1.0,315.0,1...|          1|\n",
      "|(14,[0,2,4,6,7,8,...|          1|\n",
      "|[80.0,1.0,123.0,0...|          1|\n",
      "+--------------------+-----------+\n",
      "only showing top 10 rows\n",
      "\n"
     ]
    }
   ],
   "source": [
    "finilized_data = data.select('Independent Features','DEATH_EVENT')\n",
    "finilized_data.show(10)"
   ]
  },
  {
   "cell_type": "code",
   "execution_count": 12,
   "id": "e7429abb",
   "metadata": {},
   "outputs": [
    {
     "data": {
      "text/plain": [
       "(235, 64)"
      ]
     },
     "execution_count": 12,
     "metadata": {},
     "output_type": "execute_result"
    }
   ],
   "source": [
    "#split train & test data\n",
    "\n",
    "train_data,test_data = finilized_data.randomSplit([0.80,0.20])\n",
    "train_data.count(),test_data.count()"
   ]
  },
  {
   "cell_type": "markdown",
   "id": "2eb5fc66",
   "metadata": {},
   "source": [
    "# Logistic Regression"
   ]
  },
  {
   "cell_type": "code",
   "execution_count": 13,
   "id": "11cfdd4a",
   "metadata": {},
   "outputs": [],
   "source": [
    "from pyspark.ml.classification import LogisticRegression\n",
    "LR = LogisticRegression(labelCol = 'DEATH_EVENT',featuresCol = 'Independent Features')\n",
    "LR = LR.fit(train_data)"
   ]
  },
  {
   "cell_type": "code",
   "execution_count": 14,
   "id": "9e0004cd",
   "metadata": {},
   "outputs": [
    {
     "name": "stdout",
     "output_type": "stream",
     "text": [
      "+--------------------+-----------+--------------------+--------------------+----------+\n",
      "|Independent Features|DEATH_EVENT|       rawPrediction|         probability|prediction|\n",
      "+--------------------+-----------+--------------------+--------------------+----------+\n",
      "|(14,[0,2,3,4,6,7,...|          0|[4.27248112535668...|[0.98624471128008...|       0.0|\n",
      "|(14,[0,2,3,4,6,7,...|          0|[0.63720780701803...|[0.65412200912651...|       0.0|\n",
      "|(14,[0,2,3,4,6,7,...|          1|[-2.2374156263081...|[0.09644050860015...|       1.0|\n",
      "|(14,[0,2,3,4,6,7,...|          0|[3.07446952289439...|[0.95582726731633...|       0.0|\n",
      "|(14,[0,2,4,5,6,7,...|          0|[4.57377948607987...|[0.98978650603905...|       0.0|\n",
      "|(14,[0,2,4,5,6,7,...|          0|[3.12599225337957...|[0.95795225794852...|       0.0|\n",
      "|(14,[0,2,4,6,7,8,...|          0|[1.45879790027363...|[0.81134874791021...|       0.0|\n",
      "|(14,[0,2,4,6,7,8,...|          1|[2.46872902304527...|[0.92192032487925...|       0.0|\n",
      "|(14,[0,2,4,6,7,8,...|          0|[3.82904087962614...|[0.97873172146239...|       0.0|\n",
      "|(14,[0,2,4,6,7,8,...|          1|[-0.9533239769269...|[0.27821683493919...|       1.0|\n",
      "|(14,[0,2,4,6,7,8,...|          1|[0.97372556707412...|[0.72586145919378...|       0.0|\n",
      "|(14,[0,2,4,6,7,8,...|          0|[-1.9146603742284...|[0.12845818805148...|       1.0|\n",
      "|(14,[0,2,4,6,7,8,...|          0|[-0.9268945819208...|[0.28355516099447...|       1.0|\n",
      "|(14,[0,2,4,6,7,8,...|          1|[-1.6803282648928...|[0.15705200609571...|       1.0|\n",
      "|(14,[0,2,4,6,7,8,...|          0|[2.71737239473513...|[0.93804399966286...|       0.0|\n",
      "|(14,[0,2,4,6,7,8,...|          0|[0.72336615283867...|[0.67334783574094...|       0.0|\n",
      "|[40.0,0.0,478.0,1...|          0|[2.59064590101583...|[0.93025713405274...|       0.0|\n",
      "|[42.0,0.0,64.0,0....|          0|[2.06917712834836...|[0.88787106574605...|       0.0|\n",
      "|[45.0,0.0,292.0,1...|          0|[1.77017733073428...|[0.85447972248436...|       0.0|\n",
      "|[49.0,1.0,80.0,0....|          0|[-1.0191123791740...|[0.26520033436705...|       1.0|\n",
      "+--------------------+-----------+--------------------+--------------------+----------+\n",
      "only showing top 20 rows\n",
      "\n"
     ]
    }
   ],
   "source": [
    "pred_results = LR.transform(test_data)\n",
    "pred_results.show()"
   ]
  },
  {
   "cell_type": "code",
   "execution_count": 15,
   "id": "3b53f682",
   "metadata": {},
   "outputs": [
    {
     "name": "stdout",
     "output_type": "stream",
     "text": [
      "+-----------+----------+\n",
      "|DEATH_EVENT|prediction|\n",
      "+-----------+----------+\n",
      "|          0|       0.0|\n",
      "|          0|       0.0|\n",
      "|          1|       1.0|\n",
      "|          0|       0.0|\n",
      "|          0|       0.0|\n",
      "|          0|       0.0|\n",
      "|          0|       0.0|\n",
      "|          1|       0.0|\n",
      "|          0|       0.0|\n",
      "|          1|       1.0|\n",
      "+-----------+----------+\n",
      "only showing top 10 rows\n",
      "\n"
     ]
    }
   ],
   "source": [
    "pred_results.select('DEATH_EVENT','prediction').show(10)"
   ]
  },
  {
   "cell_type": "code",
   "execution_count": 16,
   "id": "8d1e79df",
   "metadata": {},
   "outputs": [],
   "source": [
    "lr_summary = LR.summary"
   ]
  },
  {
   "cell_type": "code",
   "execution_count": 17,
   "id": "d95cb5ee",
   "metadata": {},
   "outputs": [
    {
     "name": "stdout",
     "output_type": "stream",
     "text": [
      "Logistic Reression Pred Results\n",
      "========================================================\n",
      "over_acc:\t 85.1063829787234\n",
      "precision:\t [0.861271676300578, 0.8225806451612904]\n",
      "recall:\t [0.93125, 0.68]\n",
      "========================================================\n"
     ]
    }
   ],
   "source": [
    "print(f\"\"\"Logistic Reression Pred Results\n",
    "========================================================\n",
    "over_acc:\\t {lr_summary.accuracy*100}\n",
    "precision:\\t {lr_summary.precisionByLabel}\n",
    "recall:\\t {lr_summary.recallByLabel}\n",
    "========================================================\"\"\")"
   ]
  },
  {
   "cell_type": "code",
   "execution_count": 18,
   "id": "ffa18371",
   "metadata": {},
   "outputs": [
    {
     "data": {
      "text/plain": [
       "85.9375"
      ]
     },
     "execution_count": 18,
     "metadata": {},
     "output_type": "execute_result"
    }
   ],
   "source": [
    "from pyspark.ml.evaluation import MulticlassClassificationEvaluator\n",
    "evaluator =  MulticlassClassificationEvaluator(labelCol = 'DEATH_EVENT',predictionCol = 'prediction',metricName='accuracy')\n",
    "pred = evaluator.evaluate(pred_results)\n",
    "pred*100\n"
   ]
  },
  {
   "cell_type": "markdown",
   "id": "d4329776",
   "metadata": {},
   "source": [
    "# RandomForestClassifier"
   ]
  },
  {
   "cell_type": "code",
   "execution_count": 19,
   "id": "fce4ac86",
   "metadata": {},
   "outputs": [],
   "source": [
    "from pyspark.ml.classification import RandomForestClassifier\n",
    "RF = RandomForestClassifier(labelCol = 'DEATH_EVENT',featuresCol = 'Independent Features')\n",
    "RF = RF.fit(train_data)"
   ]
  },
  {
   "cell_type": "code",
   "execution_count": 20,
   "id": "367034c3",
   "metadata": {},
   "outputs": [
    {
     "name": "stdout",
     "output_type": "stream",
     "text": [
      "+--------------------+-----------+--------------------+--------------------+----------+\n",
      "|Independent Features|DEATH_EVENT|       rawPrediction|         probability|prediction|\n",
      "+--------------------+-----------+--------------------+--------------------+----------+\n",
      "|(14,[0,2,3,4,6,7,...|          0|[18.7113642860071...|[0.93556821430035...|       0.0|\n",
      "|(14,[0,2,3,4,6,7,...|          0|[18.6966114001899...|[0.93483057000949...|       0.0|\n",
      "|(14,[0,2,3,4,6,7,...|          1|[8.32825817019365...|[0.41641290850968...|       1.0|\n",
      "|(14,[0,2,3,4,6,7,...|          0|[18.4786013486511...|[0.92393006743255...|       0.0|\n",
      "|(14,[0,2,4,5,6,7,...|          0|[19.1416999002136...|[0.95708499501068...|       0.0|\n",
      "|(14,[0,2,4,5,6,7,...|          0|[19.1344324583532...|[0.95672162291766...|       0.0|\n",
      "|(14,[0,2,4,6,7,8,...|          0|[17.8409807799714...|[0.89204903899857...|       0.0|\n",
      "|(14,[0,2,4,6,7,8,...|          1|[13.5854685180092...|[0.67927342590046...|       0.0|\n",
      "|(14,[0,2,4,6,7,8,...|          0|[18.6667021188171...|[0.93333510594085...|       0.0|\n",
      "|(14,[0,2,4,6,7,8,...|          1|[10.8542802084510...|[0.54271401042255...|       0.0|\n",
      "|(14,[0,2,4,6,7,8,...|          1|[13.9191561345631...|[0.69595780672815...|       0.0|\n",
      "|(14,[0,2,4,6,7,8,...|          0|[9.42799305375206...|[0.47139965268760...|       1.0|\n",
      "|(14,[0,2,4,6,7,8,...|          0|[14.9773197377748...|[0.74886598688874...|       0.0|\n",
      "|(14,[0,2,4,6,7,8,...|          1|[9.30792242091053...|[0.46539612104552...|       1.0|\n",
      "|(14,[0,2,4,6,7,8,...|          0|[18.4203054742262...|[0.92101527371131...|       0.0|\n",
      "|(14,[0,2,4,6,7,8,...|          0|[10.6636878989121...|[0.53318439494560...|       0.0|\n",
      "|[40.0,0.0,478.0,1...|          0|[17.7053779736077...|[0.88526889868038...|       0.0|\n",
      "|[42.0,0.0,64.0,0....|          0|[11.0774835796387...|[0.55387417898193...|       0.0|\n",
      "|[45.0,0.0,292.0,1...|          0|[18.6408849945308...|[0.93204424972654...|       0.0|\n",
      "|[49.0,1.0,80.0,0....|          0|[6.00420570420570...|[0.30021028521028...|       1.0|\n",
      "+--------------------+-----------+--------------------+--------------------+----------+\n",
      "only showing top 20 rows\n",
      "\n"
     ]
    }
   ],
   "source": [
    "pred_results = RF.transform(test_data)\n",
    "pred_results.show()"
   ]
  },
  {
   "cell_type": "code",
   "execution_count": 21,
   "id": "9f9d3ff6",
   "metadata": {},
   "outputs": [
    {
     "name": "stdout",
     "output_type": "stream",
     "text": [
      "+-----------+----------+\n",
      "|DEATH_EVENT|prediction|\n",
      "+-----------+----------+\n",
      "|          0|       0.0|\n",
      "|          0|       0.0|\n",
      "|          1|       1.0|\n",
      "|          0|       0.0|\n",
      "|          0|       0.0|\n",
      "|          0|       0.0|\n",
      "|          0|       0.0|\n",
      "|          1|       0.0|\n",
      "|          0|       0.0|\n",
      "|          1|       0.0|\n",
      "+-----------+----------+\n",
      "only showing top 10 rows\n",
      "\n"
     ]
    }
   ],
   "source": [
    "pred_results.select('DEATH_EVENT','prediction').show(10)"
   ]
  },
  {
   "cell_type": "code",
   "execution_count": 22,
   "id": "60a59c97",
   "metadata": {},
   "outputs": [],
   "source": [
    "rf_summary = RF.summary"
   ]
  },
  {
   "cell_type": "code",
   "execution_count": 45,
   "id": "35c339e5",
   "metadata": {},
   "outputs": [
    {
     "name": "stdout",
     "output_type": "stream",
     "text": [
      "RandomForestClassifier Pred Results\n",
      "===========================================================\n",
      "over_acc of classification:\t 95.31914893617022\n",
      "precision:\t [0.9461077844311377, 0.9705882352941176]\n",
      "recall:\t [0.9875, 0.88]\n",
      "============================================================\n"
     ]
    }
   ],
   "source": [
    "print(f\"\"\"RandomForestClassifier Pred Results\n",
    "===========================================================\n",
    "over_acc of classification:\\t {rf_summary.accuracy*100}\n",
    "precision:\\t {rf_summary.precisionByLabel}\n",
    "recall:\\t {rf_summary.recallByLabel}\n",
    "============================================================\"\"\")"
   ]
  },
  {
   "cell_type": "code",
   "execution_count": 46,
   "id": "f080fa0d",
   "metadata": {},
   "outputs": [
    {
     "data": {
      "text/plain": [
       "82.8125"
      ]
     },
     "execution_count": 46,
     "metadata": {},
     "output_type": "execute_result"
    }
   ],
   "source": [
    "from pyspark.ml.evaluation import MulticlassClassificationEvaluator\n",
    "evaluator =  MulticlassClassificationEvaluator(labelCol = 'DEATH_EVENT',predictionCol = 'prediction',metricName='accuracy')\n",
    "pred = evaluator.evaluate(pred_results)\n",
    "pred*100"
   ]
  },
  {
   "cell_type": "code",
   "execution_count": 47,
   "id": "0fc69201",
   "metadata": {},
   "outputs": [],
   "source": [
    "y_true = pred_results.select('DEATH_EVENT')\n",
    "y_true = y_true.toPandas()\n",
    "y_pred = pred_results.select('prediction')\n",
    "y_pred = y_pred.toPandas()"
   ]
  },
  {
   "cell_type": "code",
   "execution_count": 43,
   "id": "90ae5d50",
   "metadata": {},
   "outputs": [],
   "source": [
    "from sklearn.metrics import confusion_matrix,classification_report,accuracy_score\n",
    "import seaborn as sns"
   ]
  },
  {
   "cell_type": "code",
   "execution_count": 48,
   "id": "09378ced",
   "metadata": {},
   "outputs": [
    {
     "name": "stdout",
     "output_type": "stream",
     "text": [
      "accuracy score: 82.8125\n"
     ]
    }
   ],
   "source": [
    "print('accuracy score:',accuracy_score(y_pred,y_true)*100)"
   ]
  },
  {
   "cell_type": "code",
   "execution_count": 49,
   "id": "907b9167",
   "metadata": {},
   "outputs": [
    {
     "name": "stdout",
     "output_type": "stream",
     "text": [
      "***************classification_report**********************\n",
      "              precision    recall  f1-score   support\n",
      "\n",
      "         0.0       0.86      0.88      0.87        42\n",
      "         1.0       0.76      0.73      0.74        22\n",
      "\n",
      "    accuracy                           0.83        64\n",
      "   macro avg       0.81      0.80      0.81        64\n",
      "weighted avg       0.83      0.83      0.83        64\n",
      "\n"
     ]
    }
   ],
   "source": [
    "print('***************classification_report**********************')\n",
    "print(classification_report(y_pred,y_true))"
   ]
  },
  {
   "cell_type": "code",
   "execution_count": 50,
   "id": "b327ffc9",
   "metadata": {},
   "outputs": [
    {
     "data": {
      "text/plain": [
       "<AxesSubplot:>"
      ]
     },
     "execution_count": 50,
     "metadata": {},
     "output_type": "execute_result"
    },
    {
     "data": {
      "image/png": "[encoded data removed]",
      "text/plain": [
       "<Figure size 640x480 with 2 Axes>"
      ]
     },
     "metadata": {},
     "output_type": "display_data"
    }
   ],
   "source": [
    "sns.heatmap(confusion_matrix(y_pred,y_true),annot = True,cmap = 'Blues')"
   ]
  },
  {
   "cell_type": "code",
   "execution_count": null,
   "id": "be0c4f2f",
   "metadata": {},
   "outputs": [],
   "source": []
  }
 ],
 "metadata": {
  "kernelspec": {
   "display_name": "Python 3 (ipykernel)",
   "language": "python",
   "name": "python3"
  },
  "language_info": {
   "codemirror_mode": {
    "name": "ipython",
    "version": 3
   },
   "file_extension": ".py",
   "mimetype": "text/x-python",
   "name": "python",
   "nbconvert_exporter": "python",
   "pygments_lexer": "ipython3",
   "version": "3.9.13"
  }
 },
 "nbformat": 4,
 "nbformat_minor": 5
}
